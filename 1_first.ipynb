{
  "cells": [
    {
      "cell_type": "code",
      "execution_count": null,
      "metadata": {
        "collapsed": false
      },
      "outputs": [],
      "source": [
        "%matplotlib inline"
      ]
    },
    {
      "cell_type": "markdown",
      "metadata": {},
      "source": [
        "\n.. currentmodule:: dgl\n\nDGL at a Glance\n=========================\n\n**Author**: `Minjie Wang <https://jermainewang.github.io/>`_, Quan Gan, `Jake\nZhao <https://cs.nyu.edu/~jakezhao/>`_, Zheng Zhang\n\nDGL is a Python package dedicated to deep learning on graphs, built atop\nexisting tensor DL frameworks (e.g. Pytorch, MXNet) and simplifying the\nimplementation of graph-based neural networks.\n\nThe goal of this tutorial:\n\n- Understand how DGL enables computation on graph from a high level.\n- Train a simple graph neural network in DGL to classify nodes in a graph.\n\nAt the end of this tutorial, we hope you get a brief feeling of how DGL works.\n\n*This tutorial assumes basic familiarity with pytorch.*\n"
      ]
    },
    {
      "cell_type": "markdown",
      "metadata": {},
      "source": [
        "Tutorial problem description\n----------------------------\n\nThe tutorial is based on the \"Zachary's karate club\" problem. The karate club\nis a social network that includes 34 members and documents pairwise links\nbetween members who interact outside the club.  The club later divides into\ntwo communities led by the instructor (node 0) and the club president (node\n33). The network is visualized as follows with the color indicating the\ncommunity:\n\n![](https://data.dgl.ai/tutorial/img/karate-club.png)\n\n   :align: center\n\nThe task is to predict which side (0 or 33) each member tends to join given\nthe social network itself.\n\n"
      ]
    },
    {
      "cell_type": "markdown",
      "metadata": {},
      "source": [
        "Step 1: Creating a graph in DGL\n-------------------------------\nCreate the graph for Zachary's karate club as follows:\n\n"
      ]
    },
    {
      "cell_type": "code",
      "execution_count": null,
      "metadata": {
        "collapsed": false
      },
      "outputs": [],
      "source": [
        "import dgl\nimport numpy as np\n\ndef build_karate_club_graph():\n    # All 78 edges are stored in two numpy arrays. One for source endpoints\n    # while the other for destination endpoints.\n    src = np.array([1, 2, 2, 3, 3, 3, 4, 5, 6, 6, 6, 7, 7, 7, 7, 8, 8, 9, 10, 10,\n        10, 11, 12, 12, 13, 13, 13, 13, 16, 16, 17, 17, 19, 19, 21, 21,\n        25, 25, 27, 27, 27, 28, 29, 29, 30, 30, 31, 31, 31, 31, 32, 32,\n        32, 32, 32, 32, 32, 32, 32, 32, 32, 33, 33, 33, 33, 33, 33, 33,\n        33, 33, 33, 33, 33, 33, 33, 33, 33, 33])\n    dst = np.array([0, 0, 1, 0, 1, 2, 0, 0, 0, 4, 5, 0, 1, 2, 3, 0, 2, 2, 0, 4,\n        5, 0, 0, 3, 0, 1, 2, 3, 5, 6, 0, 1, 0, 1, 0, 1, 23, 24, 2, 23,\n        24, 2, 23, 26, 1, 8, 0, 24, 25, 28, 2, 8, 14, 15, 18, 20, 22, 23,\n        29, 30, 31, 8, 9, 13, 14, 15, 18, 19, 20, 22, 23, 26, 27, 28, 29, 30,\n        31, 32])\n    # Edges are directional in DGL; Make them bi-directional.\n    u = np.concatenate([src, dst])\n    v = np.concatenate([dst, src])\n    # Construct a DGLGraph\n    return dgl.DGLGraph((u, v))"
      ]
    },
    {
      "cell_type": "markdown",
      "metadata": {},
      "source": [
        "Print out the number of nodes and edges in our newly constructed graph:\n\n"
      ]
    },
    {
      "cell_type": "code",
      "execution_count": null,
      "metadata": {
        "collapsed": false
      },
      "outputs": [],
      "source": [
        "G = build_karate_club_graph()\nprint('We have %d nodes.' % G.number_of_nodes())\nprint('We have %d edges.' % G.number_of_edges())"
      ]
    },
    {
      "cell_type": "markdown",
      "metadata": {},
      "source": [
        "Visualize the graph by converting it to a `networkx\n<https://networkx.github.io/documentation/stable/>`_ graph:\n\n"
      ]
    },
    {
      "cell_type": "code",
      "execution_count": null,
      "metadata": {
        "collapsed": false
      },
      "outputs": [],
      "source": [
        "import networkx as nx\n# Since the actual graph is undirected, we convert it for visualization\n# purpose.\nnx_G = G.to_networkx().to_undirected()\n# Kamada-Kawaii layout usually looks pretty for arbitrary graphs\npos = nx.kamada_kawai_layout(nx_G)\nnx.draw(nx_G, pos, with_labels=True, node_color=[[.7, .7, .7]])"
      ]
    },
    {
      "cell_type": "markdown",
      "metadata": {},
      "source": [
        "Step 2: Assign features to nodes or edges\n--------------------------------------------\nGraph neural networks associate features with nodes and edges for training.\nFor our classification example, since there is no input feature, we assign each node\nwith a learnable embedding vector.\n\n"
      ]
    },
    {
      "cell_type": "code",
      "execution_count": null,
      "metadata": {
        "collapsed": false
      },
      "outputs": [],
      "source": [
        "# In DGL, you can add features for all nodes at once, using a feature tensor that\n# batches node features along the first dimension. The code below adds the learnable\n# embeddings for all nodes:\n\nimport torch\nimport torch.nn as nn\nimport torch.nn.functional as F\n\nembed = nn.Embedding(34, 5)  # 34 nodes with embedding dim equal to 5\nG.ndata['feat'] = embed.weight"
      ]
    },
    {
      "cell_type": "markdown",
      "metadata": {},
      "source": [
        "Print out the node features to verify:\n\n"
      ]
    },
    {
      "cell_type": "code",
      "execution_count": null,
      "metadata": {
        "collapsed": false
      },
      "outputs": [],
      "source": [
        "# print out node 2's input feature\nprint(G.ndata['feat'][2])\n\n# print out node 10 and 11's input features\nprint(G.ndata['feat'][[10, 11]])"
      ]
    },
    {
      "cell_type": "markdown",
      "metadata": {},
      "source": [
        "Step 3: Define a Graph Convolutional Network (GCN)\n--------------------------------------------------\nTo perform node classification, use the Graph Convolutional Network\n(GCN) developed by `Kipf and Welling <https://arxiv.org/abs/1609.02907>`_. Here\nis the simplest definition of a GCN framework. We recommend that you \nread the original paper for more details.\n\n- At layer $l$, each node $v_i^l$ carries a feature vector $h_i^l$.\n- Each layer of the GCN tries to aggregate the features from $u_i^{l}$ where\n  $u_i$'s are neighborhood nodes to $v$ into the next layer representation at\n  $v_i^{l+1}$. This is followed by an affine transformation with some\n  non-linearity.\n\nThe above definition of GCN fits into a **message-passing** paradigm: Each\nnode will update its own feature with information sent from neighboring\nnodes. A graphical demonstration is displayed below.\n\n![mailbox](https://data.dgl.ai/tutorial/1_first/mailbox.png)\n\nIn DGL, we provide implementations of popular Graph Neural Network layers under\nthe `dgl.<backend>.nn` subpackage. The :class:`~dgl.nn.pytorch.GraphConv` module\nimplements one Graph Convolutional layer.\n\n"
      ]
    },
    {
      "cell_type": "code",
      "execution_count": null,
      "metadata": {
        "collapsed": false
      },
      "outputs": [],
      "source": [
        "from dgl.nn.pytorch import GraphConv"
      ]
    },
    {
      "cell_type": "markdown",
      "metadata": {},
      "source": [
        "Define a deeper GCN model that contains two GCN layers:\n\n"
      ]
    },
    {
      "cell_type": "code",
      "execution_count": null,
      "metadata": {
        "collapsed": false
      },
      "outputs": [],
      "source": [
        "class GCN(nn.Module):\n    def __init__(self, in_feats, hidden_size, num_classes):\n        super(GCN, self).__init__()\n        self.conv1 = GraphConv(in_feats, hidden_size)\n        self.conv2 = GraphConv(hidden_size, num_classes)\n\n    def forward(self, g, inputs):\n        h = self.conv1(g, inputs)\n        h = torch.relu(h)\n        h = self.conv2(g, h)\n        return h\n\n# The first layer transforms input features of size of 5 to a hidden size of 5.\n# The second layer transforms the hidden layer and produces output features of\n# size 2, corresponding to the two groups of the karate club.\nnet = GCN(5, 5, 2)"
      ]
    },
    {
      "cell_type": "markdown",
      "metadata": {},
      "source": [
        "Step 4: Data preparation and initialization\n-------------------------------------------\n\nWe use learnable embeddings to initialize the node features. Since this is a\nsemi-supervised setting, only the instructor (node 0) and the club president\n(node 33) are assigned labels. The implementation is available as follow.\n\n"
      ]
    },
    {
      "cell_type": "code",
      "execution_count": null,
      "metadata": {
        "collapsed": false
      },
      "outputs": [],
      "source": [
        "inputs = embed.weight\nlabeled_nodes = torch.tensor([0, 33])  # only the instructor and the president nodes are labeled\nlabels = torch.tensor([0, 1])  # their labels are different"
      ]
    },
    {
      "cell_type": "markdown",
      "metadata": {},
      "source": [
        "Step 5: Train then visualize\n----------------------------\nThe training loop is exactly the same as other PyTorch models.\nWe (1) create an optimizer, (2) feed the inputs to the model,\n(3) calculate the loss and (4) use autograd to optimize the model.\n\n"
      ]
    },
    {
      "cell_type": "code",
      "execution_count": null,
      "metadata": {
        "collapsed": false
      },
      "outputs": [],
      "source": [
        "import itertools\n\noptimizer = torch.optim.Adam(itertools.chain(net.parameters(), embed.parameters()), lr=0.01)\nall_logits = []\nfor epoch in range(50):\n    logits = net(G, inputs)\n    # we save the logits for visualization later\n    all_logits.append(logits.detach())\n    logp = F.log_softmax(logits, 1)\n    # we only compute loss for labeled nodes\n    loss = F.nll_loss(logp[labeled_nodes], labels)\n\n    optimizer.zero_grad()\n    loss.backward()\n    optimizer.step()\n\n    print('Epoch %d | Loss: %.4f' % (epoch, loss.item()))"
      ]
    },
    {
      "cell_type": "markdown",
      "metadata": {},
      "source": [
        "This is a rather toy example, so it does not even have a validation or test\nset. Instead, Since the model produces an output feature of size 2 for each node, we can\nvisualize by plotting the output feature in a 2D space.\nThe following code animates the training process from initial guess\n(where the nodes are not classified correctly at all) to the end\n(where the nodes are linearly separable).\n\n"
      ]
    },
    {
      "cell_type": "code",
      "execution_count": null,
      "metadata": {
        "collapsed": false
      },
      "outputs": [],
      "source": [
        "import matplotlib.animation as animation\nimport matplotlib.pyplot as plt\n\ndef draw(i):\n    cls1color = '#00FFFF'\n    cls2color = '#FF00FF'\n    pos = {}\n    colors = []\n    for v in range(34):\n        pos[v] = all_logits[i][v].numpy()\n        cls = pos[v].argmax()\n        colors.append(cls1color if cls else cls2color)\n    ax.cla()\n    ax.axis('off')\n    ax.set_title('Epoch: %d' % i)\n    nx.draw_networkx(nx_G.to_undirected(), pos, node_color=colors,\n            with_labels=True, node_size=300, ax=ax)\n\nfig = plt.figure(dpi=150)\nfig.clf()\nax = fig.subplots()\ndraw(0)  # draw the prediction of the first epoch\nplt.close()"
      ]
    },
    {
      "cell_type": "markdown",
      "metadata": {},
      "source": [
        "![](https://data.dgl.ai/tutorial/1_first/karate0.png)\n\n   :height: 300px\n   :width: 400px\n   :align: center\n\n"
      ]
    },
    {
      "cell_type": "markdown",
      "metadata": {},
      "source": [
        "The following animation shows how the model correctly predicts the community\nafter a series of training epochs.\n\n"
      ]
    },
    {
      "cell_type": "code",
      "execution_count": null,
      "metadata": {
        "collapsed": false
      },
      "outputs": [],
      "source": [
        "ani = animation.FuncAnimation(fig, draw, frames=len(all_logits), interval=200)"
      ]
    },
    {
      "cell_type": "markdown",
      "metadata": {},
      "source": [
        "![](https://data.dgl.ai/tutorial/1_first/karate.gif)\n\n   :height: 300px\n   :width: 400px\n   :align: center\n\n"
      ]
    },
    {
      "cell_type": "markdown",
      "metadata": {},
      "source": [
        "Next steps\n----------\n\nIn the :doc:`next tutorial <2_basics>`, we will go through some more basics\nof DGL, such as reading and writing node/edge features.\n\n"
      ]
    }
  ],
  "metadata": {
    "kernelspec": {
      "display_name": "Python 3",
      "language": "python",
      "name": "python3"
    },
    "language_info": {
      "codemirror_mode": {
        "name": "ipython",
        "version": 3
      },
      "file_extension": ".py",
      "mimetype": "text/x-python",
      "name": "python",
      "nbconvert_exporter": "python",
      "pygments_lexer": "ipython3",
      "version": "3.7.3"
    }
  },
  "nbformat": 4,
  "nbformat_minor": 0
}